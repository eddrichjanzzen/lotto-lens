{
 "cells": [
  {
   "cell_type": "code",
   "execution_count": 297,
   "id": "53816d70-57d5-41e9-8c93-021bdd68f07b",
   "metadata": {},
   "outputs": [],
   "source": [
    "import pytesseract\n",
    "import cv2\n",
    "import numpy as np"
   ]
  },
  {
   "cell_type": "code",
   "execution_count": 298,
   "id": "ef13f598-a720-4f1d-9e1c-912d87eb7ece",
   "metadata": {},
   "outputs": [],
   "source": [
    "image = cv2.imread(\"temp/no_noise.jpg\")\n",
    "# important step or else an error will appear\n",
    "grey = cv2.cvtColor(image, cv2.COLOR_BGR2GRAY)"
   ]
  },
  {
   "cell_type": "code",
   "execution_count": 299,
   "id": "5430f954-7992-44df-b425-ebc75da629bf",
   "metadata": {},
   "outputs": [],
   "source": [
    "blur = cv2.GaussianBlur(grey, (7,7), 0)"
   ]
  },
  {
   "cell_type": "code",
   "execution_count": 300,
   "id": "bcd2be9a-af92-4982-8b7c-98f28d9063b0",
   "metadata": {},
   "outputs": [
    {
     "data": {
      "text/plain": [
       "True"
      ]
     },
     "execution_count": 300,
     "metadata": {},
     "output_type": "execute_result"
    }
   ],
   "source": [
    "cv2.imwrite(\"temp/blur.jpg\", blur)"
   ]
  },
  {
   "cell_type": "code",
   "execution_count": 301,
   "id": "399e14ae-0797-47cc-9d4a-98dc8cf1deeb",
   "metadata": {},
   "outputs": [],
   "source": [
    "thresh = cv2.threshold(blur, 0, 255, cv2.THRESH_BINARY_INV + cv2.THRESH_OTSU)[1]"
   ]
  },
  {
   "cell_type": "code",
   "execution_count": 302,
   "id": "1b1aafb3-78fc-4597-91c7-df838894d15c",
   "metadata": {},
   "outputs": [
    {
     "data": {
      "text/plain": [
       "True"
      ]
     },
     "execution_count": 302,
     "metadata": {},
     "output_type": "execute_result"
    }
   ],
   "source": [
    "cv2.imwrite(\"temp/thresh.jpg\", thresh)"
   ]
  },
  {
   "cell_type": "code",
   "execution_count": 314,
   "id": "1472b1db-7041-46fc-80f0-ec6cc1853817",
   "metadata": {},
   "outputs": [],
   "source": [
    "kernal = cv2.getStructuringElement(cv2.MORPH_ELLIPSE , (3, 13))"
   ]
  },
  {
   "cell_type": "code",
   "execution_count": 315,
   "id": "a14076b4-3b8e-41f5-83a6-c25b59160c83",
   "metadata": {},
   "outputs": [
    {
     "data": {
      "text/plain": [
       "True"
      ]
     },
     "execution_count": 315,
     "metadata": {},
     "output_type": "execute_result"
    }
   ],
   "source": [
    "cv2.imwrite(\"temp/kernal.jpg\", kernal)"
   ]
  },
  {
   "cell_type": "code",
   "execution_count": 316,
   "id": "79f6a4be-7e26-4432-a8f9-ee8eeb1caac5",
   "metadata": {},
   "outputs": [],
   "source": [
    "dilate = cv2.dilate(thresh, kernal, iterations=1)"
   ]
  },
  {
   "cell_type": "code",
   "execution_count": 317,
   "id": "624bb26b-815d-4b0d-92d6-e99ed0fc8db9",
   "metadata": {},
   "outputs": [
    {
     "data": {
      "text/plain": [
       "True"
      ]
     },
     "execution_count": 317,
     "metadata": {},
     "output_type": "execute_result"
    }
   ],
   "source": [
    "cv2.imwrite(\"temp/dilate.jpg\", dilate)"
   ]
  },
  {
   "cell_type": "code",
   "execution_count": 318,
   "id": "c1b7355a-fd31-4f0a-b1e5-ac372cd24259",
   "metadata": {},
   "outputs": [],
   "source": [
    "cnts = cv2.findContours(dilate, cv2.RETR_EXTERNAL, cv2.CHAIN_APPROX_SIMPLE)"
   ]
  },
  {
   "cell_type": "code",
   "execution_count": 319,
   "id": "3eba80e4-1465-47f5-a8b4-f4c248d9e0a7",
   "metadata": {},
   "outputs": [],
   "source": [
    "cnts = cnts[0] if len(cnts) == 2 else cnts[1]"
   ]
  },
  {
   "cell_type": "code",
   "execution_count": 320,
   "id": "98684959-8f3b-4432-b5a2-0af3b3a0bd78",
   "metadata": {},
   "outputs": [],
   "source": [
    "cnts = sorted(cnts, key=lambda x: cv2.boundingRect(x)[0])"
   ]
  },
  {
   "cell_type": "code",
   "execution_count": 322,
   "id": "3bfdebd6-6c26-4da7-93a2-6dd1de9a35e2",
   "metadata": {},
   "outputs": [],
   "source": [
    "for c in cnts:\n",
    "    x, y, w, h = cv2.boundingRect(c)\n",
    "\n",
    "    roi = image[y:y+h, x:x+h]\n",
    "    cv2.rectangle(image, (x, y), (x+w, y+h), (36, 255, 12), 2)\n",
    "    # ocr_result = pytesseract.image_to_string(roi)\n",
    "    # print(ocr_result)"
   ]
  },
  {
   "cell_type": "code",
   "execution_count": 323,
   "id": "5aac7fed-e7ed-45d2-8c49-761f4add81fe",
   "metadata": {},
   "outputs": [
    {
     "data": {
      "text/plain": [
       "True"
      ]
     },
     "execution_count": 323,
     "metadata": {},
     "output_type": "execute_result"
    }
   ],
   "source": [
    "cv2.imwrite(\"temp/bbox.jpg\", image)"
   ]
  },
  {
   "cell_type": "code",
   "execution_count": null,
   "id": "86f7ab74-da58-4615-a842-3c367f535266",
   "metadata": {},
   "outputs": [],
   "source": []
  },
  {
   "cell_type": "code",
   "execution_count": null,
   "id": "f3296797-a686-4423-8531-5d34fb76eb35",
   "metadata": {},
   "outputs": [],
   "source": []
  },
  {
   "cell_type": "code",
   "execution_count": null,
   "id": "96a74b9f-e91d-4c8b-b7eb-8e1da18312f2",
   "metadata": {},
   "outputs": [],
   "source": []
  }
 ],
 "metadata": {
  "kernelspec": {
   "display_name": "Python 3 (ipykernel)",
   "language": "python",
   "name": "python3"
  },
  "language_info": {
   "codemirror_mode": {
    "name": "ipython",
    "version": 3
   },
   "file_extension": ".py",
   "mimetype": "text/x-python",
   "name": "python",
   "nbconvert_exporter": "python",
   "pygments_lexer": "ipython3",
   "version": "3.10.12"
  }
 },
 "nbformat": 4,
 "nbformat_minor": 5
}
