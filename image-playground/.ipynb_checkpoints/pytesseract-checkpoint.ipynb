{
 "cells": [
  {
   "cell_type": "code",
   "execution_count": 4,
   "id": "24a45388-cd3e-4f1f-b022-d9a7fefb3661",
   "metadata": {},
   "outputs": [],
   "source": [
    "import pytesseract\n",
    "from PIL import Image"
   ]
  },
  {
   "cell_type": "code",
   "execution_count": 6,
   "id": "21f501fe-d9c8-4d21-9546-4b0f05921b84",
   "metadata": {},
   "outputs": [],
   "source": [
    "manipulated = \"temp/no_borders.jpg\"\n",
    "orig_image = \"data/lotto_tix.jpg\""
   ]
  },
  {
   "cell_type": "code",
   "execution_count": 7,
   "id": "21d016a0-93e2-446b-8da2-1f6e3b17be0b",
   "metadata": {},
   "outputs": [],
   "source": [
    "# img = Image.open(orig_image)\n",
    "img = Image.open(manipulated)"
   ]
  },
  {
   "cell_type": "code",
   "execution_count": 8,
   "id": "29cf43ae-171f-4933-aa2b-7fcd02a10747",
   "metadata": {},
   "outputs": [],
   "source": [
    "ocr_result = pytesseract.image_to_string(img)"
   ]
  },
  {
   "cell_type": "code",
   "execution_count": 9,
   "id": "29ec0c08-d8cc-406b-92c4-9e3b5fe6ceab",
   "metadata": {},
   "outputs": [
    {
     "name": "stdout",
     "output_type": "stream",
     "text": [
      "NATIONWIDE\n",
      "\n",
      "Gs\n",
      "\n",
      "A:z:11T-21 293 32 40 43\n",
      "B:14:\\22 30 38.43 49\n",
      "\n",
      "C:12 20 23 39 42 47\n",
      "\n",
      "D:03 20 22 24 32 49\n",
      "\n",
      "E:04 O9 12 23 24 41 LP\n",
      "328F. 105-0601-8 222222 11-Oct-23 09:56\n",
      "\n",
      "Ticket Price »: P100.00\n",
      "\n",
      "Draw 0000006 THU.12-Oct-23\n",
      "\n",
      "11-Oct-23 18:12 6351-A8B1\n",
      "\n",
      "eee)\n",
      "\n",
      "0E48-1B61-3E9E-2488\n",
      "\n",
      " \n",
      "\n",
      " \n",
      "\f",
      "\n"
     ]
    }
   ],
   "source": [
    "print(ocr_result)"
   ]
  },
  {
   "cell_type": "code",
   "execution_count": null,
   "id": "d4f9f2e8-c997-4452-a90e-cb66909aee18",
   "metadata": {},
   "outputs": [],
   "source": []
  }
 ],
 "metadata": {
  "kernelspec": {
   "display_name": "Python 3 (ipykernel)",
   "language": "python",
   "name": "python3"
  },
  "language_info": {
   "codemirror_mode": {
    "name": "ipython",
    "version": 3
   },
   "file_extension": ".py",
   "mimetype": "text/x-python",
   "name": "python",
   "nbconvert_exporter": "python",
   "pygments_lexer": "ipython3",
   "version": "3.10.12"
  }
 },
 "nbformat": 4,
 "nbformat_minor": 5
}
