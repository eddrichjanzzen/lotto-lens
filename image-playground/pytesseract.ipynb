{
 "cells": [
  {
   "cell_type": "code",
   "execution_count": 51,
   "id": "24a45388-cd3e-4f1f-b022-d9a7fefb3661",
   "metadata": {},
   "outputs": [],
   "source": [
    "import pytesseract\n",
    "from PIL import Image\n",
    "import re"
   ]
  },
  {
   "cell_type": "code",
   "execution_count": 52,
   "id": "21f501fe-d9c8-4d21-9546-4b0f05921b84",
   "metadata": {},
   "outputs": [],
   "source": [
    "manipulated = \"temp/no_noise.jpg\"\n",
    "orig_image = \"data/lotto_tix.jpg\""
   ]
  },
  {
   "cell_type": "code",
   "execution_count": 53,
   "id": "21d016a0-93e2-446b-8da2-1f6e3b17be0b",
   "metadata": {},
   "outputs": [],
   "source": [
    "# img = Image.open(orig_image)\n",
    "img = Image.open(manipulated)"
   ]
  },
  {
   "cell_type": "code",
   "execution_count": 54,
   "id": "29cf43ae-171f-4933-aa2b-7fcd02a10747",
   "metadata": {},
   "outputs": [],
   "source": [
    "def replace_chars(text):\n",
    "    \"\"\"\n",
    "    Replaces all characters instead of numbers from 'text'.\n",
    "    \n",
    "    :param text: Text string to be filtered\n",
    "    :return: Resulting number\n",
    "    \"\"\"\n",
    "    list_of_numbers = re.findall(r'\\d+', text)\n",
    "    result_number = ''.join(list_of_numbers)\n",
    "    return result_number\n"
   ]
  },
  {
   "cell_type": "code",
   "execution_count": 55,
   "id": "04af4e78-5593-4290-b0d7-b226746b50e9",
   "metadata": {},
   "outputs": [],
   "source": [
    "\n",
    "ocr_result = pytesseract.image_to_string(img, lang='eng')\n"
   ]
  },
  {
   "cell_type": "code",
   "execution_count": 56,
   "id": "29ec0c08-d8cc-406b-92c4-9e3b5fe6ceab",
   "metadata": {},
   "outputs": [
    {
     "name": "stdout",
     "output_type": "stream",
     "text": [
      " \n",
      "\n",
      "MaTIONWwIOR\n",
      "———————\n",
      "\n",
      "O45\n",
      "\n",
      "A:11 21 29 32 40 49\n",
      "B:14 22 30 38 43 49\n",
      "C:12 20 23 39 42 47\n",
      "D:O03 20 22 24 32 49\n",
      "E:04 09 12 23 24 41 p\n",
      "\n",
      "328F 105-0601-8 222222 11-Oct-23 09:56\n",
      "Ticket Price : P100.00\n",
      "\n",
      "Draw 0000006 THU 12-Oct-23\n",
      "\n",
      "11-Oct-23 18:12 6351-A8B1\n",
      "\n",
      "—\n",
      "\n",
      "Leaman\n",
      "\n",
      "0E 48- 1B61-3E9E-2488\n",
      "\n",
      " \n",
      "\n",
      " \n",
      "\n",
      " \n",
      "\f",
      "\n"
     ]
    }
   ],
   "source": [
    "print(ocr_result)"
   ]
  },
  {
   "cell_type": "code",
   "execution_count": 43,
   "id": "d4f9f2e8-c997-4452-a90e-cb66909aee18",
   "metadata": {},
   "outputs": [
    {
     "name": "stdout",
     "output_type": "stream",
     "text": [
      "1121293240491422303843491220233942470320222432490498122324413281050601822222211230956100000000006122311231812635181048161392488\n"
     ]
    }
   ],
   "source": [
    "print(replace_chars(ocr_result))"
   ]
  },
  {
   "cell_type": "code",
   "execution_count": null,
   "id": "5ab77317-5b09-42eb-9e03-8698ae756c0a",
   "metadata": {},
   "outputs": [],
   "source": []
  },
  {
   "cell_type": "code",
   "execution_count": null,
   "id": "e16d55ba-5976-4ca3-a56c-8a0412390ef0",
   "metadata": {},
   "outputs": [],
   "source": []
  },
  {
   "cell_type": "code",
   "execution_count": null,
   "id": "49bbc288-ffac-40af-987a-34b2f9de52ec",
   "metadata": {},
   "outputs": [],
   "source": []
  },
  {
   "cell_type": "code",
   "execution_count": null,
   "id": "99c74681-335b-4af0-8111-d551d92f29d9",
   "metadata": {},
   "outputs": [],
   "source": []
  },
  {
   "cell_type": "code",
   "execution_count": null,
   "id": "9a2fa66b-b067-4dfd-8641-8ff0a1b125e4",
   "metadata": {},
   "outputs": [],
   "source": []
  }
 ],
 "metadata": {
  "kernelspec": {
   "display_name": "Python 3 (ipykernel)",
   "language": "python",
   "name": "python3"
  },
  "language_info": {
   "codemirror_mode": {
    "name": "ipython",
    "version": 3
   },
   "file_extension": ".py",
   "mimetype": "text/x-python",
   "name": "python",
   "nbconvert_exporter": "python",
   "pygments_lexer": "ipython3",
   "version": "3.10.12"
  }
 },
 "nbformat": 4,
 "nbformat_minor": 5
}
